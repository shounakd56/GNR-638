{
 "cells": [
  {
   "cell_type": "code",
   "execution_count": 2,
   "id": "1767c887",
   "metadata": {},
   "outputs": [
    {
     "name": "stdout",
     "output_type": "stream",
     "text": [
      "Scale factor: 4x\n"
     ]
    },
    {
     "name": "stderr",
     "output_type": "stream",
     "text": [
      "Epoch 1/10: 100%|█████████████████████████████████████████████████████████████████████| 141/141 [09:20<00:00,  3.98s/it]\n"
     ]
    },
    {
     "name": "stdout",
     "output_type": "stream",
     "text": [
      "Epoch 1 | Train Loss: 0.0566 | PSNR: 26.47 | SSIM: 0.7220 | Joint: 55.35\n"
     ]
    },
    {
     "name": "stderr",
     "output_type": "stream",
     "text": [
      "Epoch 2/10: 100%|█████████████████████████████████████████████████████████████████████| 141/141 [09:14<00:00,  3.93s/it]\n"
     ]
    },
    {
     "name": "stdout",
     "output_type": "stream",
     "text": [
      "Epoch 2 | Train Loss: 0.0425 | PSNR: 26.35 | SSIM: 0.7273 | Joint: 55.45\n"
     ]
    },
    {
     "name": "stderr",
     "output_type": "stream",
     "text": [
      "Epoch 3/10: 100%|█████████████████████████████████████████████████████████████████████| 141/141 [09:12<00:00,  3.92s/it]\n"
     ]
    },
    {
     "name": "stdout",
     "output_type": "stream",
     "text": [
      "Epoch 3 | Train Loss: 0.0418 | PSNR: 26.76 | SSIM: 0.7485 | Joint: 56.71\n"
     ]
    },
    {
     "name": "stderr",
     "output_type": "stream",
     "text": [
      "Epoch 4/10: 100%|█████████████████████████████████████████████████████████████████████| 141/141 [09:20<00:00,  3.97s/it]\n"
     ]
    },
    {
     "name": "stdout",
     "output_type": "stream",
     "text": [
      "Epoch 4 | Train Loss: 0.0411 | PSNR: 26.79 | SSIM: 0.7526 | Joint: 56.90\n"
     ]
    },
    {
     "name": "stderr",
     "output_type": "stream",
     "text": [
      "Epoch 5/10: 100%|█████████████████████████████████████████████████████████████████████| 141/141 [08:22<00:00,  3.57s/it]\n"
     ]
    },
    {
     "name": "stdout",
     "output_type": "stream",
     "text": [
      "Epoch 5 | Train Loss: 0.0410 | PSNR: 26.84 | SSIM: 0.7593 | Joint: 57.21\n"
     ]
    },
    {
     "name": "stderr",
     "output_type": "stream",
     "text": [
      "Epoch 6/10: 100%|█████████████████████████████████████████████████████████████████████| 141/141 [08:27<00:00,  3.60s/it]\n"
     ]
    },
    {
     "name": "stdout",
     "output_type": "stream",
     "text": [
      "Epoch 6 | Train Loss: 0.0410 | PSNR: 26.84 | SSIM: 0.7610 | Joint: 57.28\n"
     ]
    },
    {
     "name": "stderr",
     "output_type": "stream",
     "text": [
      "Epoch 7/10: 100%|█████████████████████████████████████████████████████████████████████| 141/141 [08:33<00:00,  3.64s/it]\n"
     ]
    },
    {
     "name": "stdout",
     "output_type": "stream",
     "text": [
      "Epoch 7 | Train Loss: 0.0399 | PSNR: 26.85 | SSIM: 0.7705 | Joint: 57.67\n"
     ]
    },
    {
     "name": "stderr",
     "output_type": "stream",
     "text": [
      "Epoch 8/10: 100%|█████████████████████████████████████████████████████████████████████| 141/141 [08:18<00:00,  3.53s/it]\n"
     ]
    },
    {
     "name": "stdout",
     "output_type": "stream",
     "text": [
      "Epoch 8 | Train Loss: 0.0397 | PSNR: 26.88 | SSIM: 0.7686 | Joint: 57.63\n"
     ]
    },
    {
     "name": "stderr",
     "output_type": "stream",
     "text": [
      "Epoch 9/10: 100%|█████████████████████████████████████████████████████████████████████| 141/141 [08:26<00:00,  3.60s/it]\n"
     ]
    },
    {
     "name": "stdout",
     "output_type": "stream",
     "text": [
      "Epoch 9 | Train Loss: 0.0392 | PSNR: 26.92 | SSIM: 0.7651 | Joint: 57.53\n"
     ]
    },
    {
     "name": "stderr",
     "output_type": "stream",
     "text": [
      "Epoch 10/10: 100%|████████████████████████████████████████████████████████████████████| 141/141 [08:29<00:00,  3.62s/it]\n"
     ]
    },
    {
     "name": "stdout",
     "output_type": "stream",
     "text": [
      "Epoch 10 | Train Loss: 0.0397 | PSNR: 26.93 | SSIM: 0.7588 | Joint: 57.28\n"
     ]
    },
    {
     "data": {
      "image/png": "[encoded data removed]",
      "text/plain": [
       "<Figure size 864x360 with 2 Axes>"
      ]
     },
     "metadata": {
      "needs_background": "light"
     },
     "output_type": "display_data"
    },
    {
     "name": "stderr",
     "output_type": "stream",
     "text": [
      "100%|█████████████████████████████████████████████████████████████████████████████████| 500/500 [02:57<00:00,  2.81it/s]\n",
      "100%|█████████████████████████████████████████████████████████████████████████████████| 500/500 [01:32<00:00,  5.42it/s]\n"
     ]
    }
   ],
   "source": [
    "import os\n",
    "import cv2\n",
    "import numpy as np\n",
    "import pandas as pd\n",
    "import random\n",
    "import torch\n",
    "import torch.nn as nn\n",
    "import torch.optim as optim\n",
    "from torch.utils.data import Dataset, DataLoader, Subset\n",
    "import torchvision.transforms as transforms\n",
    "from skimage.metrics import peak_signal_noise_ratio as psnr\n",
    "from skimage.metrics import structural_similarity as ssim\n",
    "from tqdm import tqdm\n",
    "import base64\n",
    "import torch.nn.functional as F\n",
    "import matplotlib.pyplot as plt\n",
    "\n",
    "# Verify dataset scale factor\n",
    "lr_sample = cv2.imread(\"train-kaggle/train-kaggle/lr/00001.png\")\n",
    "hr_sample = cv2.imread(\"train-kaggle/train-kaggle/hr/00001.png\")\n",
    "SCALE_FACTOR = int(hr_sample.shape[0] / lr_sample.shape[0])\n",
    "print(f\"Scale factor: {SCALE_FACTOR}x\")\n",
    "\n",
    "# EDSR Architecture with dynamic scaling\n",
    "class EDSR(nn.Module):\n",
    "    def __init__(self, scale_factor=SCALE_FACTOR, num_blocks=32, feature_dim=256):\n",
    "        super(EDSR, self).__init__()\n",
    "        self.scale_factor = scale_factor\n",
    "        self.head = nn.Conv2d(3, feature_dim, 3, padding=1)  # Initial convolution layer\n",
    "        self.body = nn.Sequential(*[ResBlock(feature_dim) for _ in range(num_blocks)])  # Residual blocks\n",
    "        \n",
    "        upscale = []\n",
    "        num_upscales = int(np.log2(scale_factor))  # Determine number of upscaling stages\n",
    "        for _ in range(num_upscales):\n",
    "            upscale.extend([\n",
    "                nn.Conv2d(feature_dim, feature_dim * 4, 3, padding=1),  # Increase channel dimension\n",
    "                nn.PixelShuffle(2)  # Rearrange channels to upscale spatial dimensions\n",
    "            ])\n",
    "        upscale.append(nn.Conv2d(feature_dim, 3, 3, padding=1))  # Final conv to output RGB image\n",
    "        self.tail = nn.Sequential(*upscale)\n",
    "\n",
    "    def forward(self, x):\n",
    "        x = self.head(x)            # Pass input through initial conv layer\n",
    "        residual = x                # Save for residual connection\n",
    "        x = self.body(x)            # Process through residual blocks\n",
    "        x += residual               # Add residual connection\n",
    "        x = self.tail(x)            # Upscale the image\n",
    "        return x\n",
    "\n",
    "# Residual Block used in EDSR\n",
    "class ResBlock(nn.Module):\n",
    "    def __init__(self, channels):\n",
    "        super(ResBlock, self).__init__()\n",
    "        self.conv1 = nn.Conv2d(channels, channels, 3, padding=1)  # First conv layer\n",
    "        self.conv2 = nn.Conv2d(channels, channels, 3, padding=1)  # Second conv layer\n",
    "        self.relu = nn.ReLU()                                    # Activation function\n",
    "        \n",
    "    def forward(self, x):\n",
    "        residual = x                    # Save input for residual connection\n",
    "        x = self.relu(self.conv1(x))    # Apply convolution and activation\n",
    "        x = self.conv2(x)               # Apply second convolution\n",
    "        x += residual                   # Add skip connection\n",
    "        return x\n",
    "\n",
    "# Dataset Class\n",
    "class SRDataset(Dataset):\n",
    "    def __init__(self, lr_dir, hr_dir, scale=SCALE_FACTOR, patch_size=64, train=True):\n",
    "        self.lr_dir = lr_dir\n",
    "        self.hr_dir = hr_dir\n",
    "        self.scale = scale\n",
    "        self.patch_size = patch_size\n",
    "        self.train = train\n",
    "        self.filenames = [f for f in os.listdir(lr_dir) if f.endswith('.png')]\n",
    "        \n",
    "    def __len__(self):\n",
    "        return len(self.filenames)\n",
    "    \n",
    "    def __getitem__(self, idx):\n",
    "        lr_path = os.path.join(self.lr_dir, self.filenames[idx])\n",
    "        hr_path = os.path.join(self.hr_dir, self.filenames[idx])\n",
    "        \n",
    "        lr = cv2.imread(lr_path)\n",
    "        hr = cv2.imread(hr_path)\n",
    "        lr = cv2.cvtColor(lr, cv2.COLOR_BGR2RGB)\n",
    "        hr = cv2.cvtColor(hr, cv2.COLOR_BGR2RGB)\n",
    "        \n",
    "        assert hr.shape[0] == lr.shape[0] * self.scale, \"HR/LR scale mismatch\"\n",
    "        assert hr.shape[1] == lr.shape[1] * self.scale, \"HR/LR scale mismatch\"\n",
    "        \n",
    "        if self.train:\n",
    "            lr_h, lr_w = lr.shape[:2]\n",
    "            lr_p = self.patch_size\n",
    "            hr_p = self.patch_size * self.scale\n",
    "            lr_x = np.random.randint(0, lr_w - lr_p)\n",
    "            lr_y = np.random.randint(0, lr_h - lr_p)\n",
    "            hr_x = lr_x * self.scale\n",
    "            hr_y = lr_y * self.scale\n",
    "            lr = lr[lr_y:lr_y+lr_p, lr_x:lr_x+lr_p]\n",
    "            hr = hr[hr_y:hr_y+hr_p, hr_x:hr_x+hr_p]\n",
    "        \n",
    "        lr_tensor = transforms.functional.to_tensor(lr)\n",
    "        hr_tensor = transforms.functional.to_tensor(hr)\n",
    "        return lr_tensor, hr_tensor\n",
    "\n",
    "# Training configuration\n",
    "device = torch.device('cuda' if torch.cuda.is_available() else 'cpu')\n",
    "BATCH_SIZE = 32\n",
    "EPOCHS = 10\n",
    "LR = 5e-5\n",
    "\n",
    "train_set = SRDataset('train-kaggle/train-kaggle/lr', 'train-kaggle/train-kaggle/hr', train=True)\n",
    "val_set = SRDataset('train-kaggle/train-kaggle/lr', 'train-kaggle/train-kaggle/hr', train=False)\n",
    "train_loader = DataLoader(train_set, batch_size=BATCH_SIZE, shuffle=True)\n",
    "\n",
    "# Fixed validation indices for consistent evaluation each epoch\n",
    "num_val_samples = 100\n",
    "val_indices = np.random.choice(len(val_set), num_val_samples, replace=False)\n",
    "val_subset = Subset(val_set, val_indices)\n",
    "subset_loader = DataLoader(val_subset, batch_size=1, shuffle=False)\n",
    "\n",
    "model = EDSR(scale_factor=SCALE_FACTOR).to(device)\n",
    "criterion = nn.L1Loss()\n",
    "optimizer = optim.Adam(model.parameters(), lr=LR)\n",
    "scheduler = optim.lr_scheduler.ReduceLROnPlateau(optimizer, 'min', patience=5)\n",
    "\n",
    "train_losses = []\n",
    "val_joint_scores = []\n",
    "\n",
    "# Training loop\n",
    "best_metric = 0\n",
    "for epoch in range(EPOCHS):\n",
    "    model.train()\n",
    "    epoch_loss = 0\n",
    "    for lr, hr in tqdm(train_loader, desc=f'Epoch {epoch+1}/{EPOCHS}'):\n",
    "        lr, hr = lr.to(device), hr.to(device)\n",
    "        optimizer.zero_grad()\n",
    "        sr = model(lr)\n",
    "        loss = criterion(sr, hr)\n",
    "        loss.backward()\n",
    "        optimizer.step()\n",
    "        epoch_loss += loss.item()\n",
    "    \n",
    "    avg_loss = epoch_loss / len(train_loader)\n",
    "    train_losses.append(avg_loss)\n",
    "    \n",
    "    model.eval()\n",
    "    psnr_val, ssim_val = 0, 0\n",
    "    with torch.no_grad():\n",
    "        for lr, hr in subset_loader:\n",
    "            lr, hr = lr.to(device), hr.to(device)\n",
    "            sr = model(lr)\n",
    "            sr_np = sr.squeeze().cpu().numpy().transpose(1,2,0) * 255\n",
    "            hr_np = hr.squeeze().cpu().numpy().transpose(1,2,0) * 255\n",
    "            psnr_val += psnr(hr_np, sr_np, data_range=255)\n",
    "            ssim_val += ssim(hr_np, sr_np, channel_axis=2, data_range=255, multichannel=True)\n",
    "    \n",
    "    avg_psnr = psnr_val / num_val_samples\n",
    "    avg_ssim = ssim_val / num_val_samples\n",
    "    joint_metric = 40 * avg_ssim + avg_psnr\n",
    "    val_joint_scores.append(joint_metric)\n",
    "    \n",
    "    print(f\"Epoch {epoch+1} | Train Loss: {avg_loss:.4f} | PSNR: {avg_psnr:.2f} | SSIM: {avg_ssim:.4f} | Joint: {joint_metric:.2f}\")\n",
    "        \n",
    "    if joint_metric > best_metric:\n",
    "        best_metric = joint_metric\n",
    "        torch.save(model.state_dict(), 'bestmodel.pth')\n",
    "    \n",
    "    scheduler.step(avg_loss)\n",
    "\n",
    "# Plot training loss vs epoch and validation joint score vs epoch\n",
    "plt.figure(figsize=(12,5))\n",
    "\n",
    "plt.subplot(1,2,1)\n",
    "plt.plot(range(1, EPOCHS+1), train_losses, marker='o')\n",
    "plt.title(\"Training Loss vs. Epoch\")\n",
    "plt.xlabel(\"Epoch\")\n",
    "plt.ylabel(\"Avg Loss\")\n",
    "\n",
    "plt.subplot(1,2,2)\n",
    "plt.plot(range(1, EPOCHS+1), val_joint_scores, marker='o')\n",
    "plt.title(\"Validation Joint Score vs. Epoch\")\n",
    "plt.xlabel(\"Epoch\")\n",
    "plt.ylabel(\"Joint Score\")\n",
    "\n",
    "plt.tight_layout()\n",
    "plt.show()\n",
    "\n",
    "# Inference with automatic scaling\n",
    "def predict_and_save(test_dir='lr/lr', output_dir='Sub'):\n",
    "    os.makedirs(output_dir, exist_ok=True)\n",
    "    model.load_state_dict(torch.load('bestmodel.pth'))\n",
    "    model.eval()\n",
    "    for filename in tqdm(os.listdir(test_dir)):\n",
    "        lr_path = os.path.join(test_dir, filename)\n",
    "        lr = cv2.imread(lr_path)\n",
    "        lr = cv2.cvtColor(lr, cv2.COLOR_BGR2RGB)\n",
    "        h, w = lr.shape[:2]\n",
    "        pad_h = (SCALE_FACTOR - h % SCALE_FACTOR) % SCALE_FACTOR\n",
    "        pad_w = (SCALE_FACTOR - w % SCALE_FACTOR) % SCALE_FACTOR\n",
    "        lr_padded = cv2.copyMakeBorder(lr, 0, pad_h, 0, pad_w, cv2.BORDER_REFLECT)\n",
    "        lr_tensor = transforms.functional.to_tensor(lr_padded).unsqueeze(0).to(device)\n",
    "        with torch.no_grad():\n",
    "            sr_tensor = model(lr_tensor)\n",
    "        sr_np = sr_tensor.squeeze().cpu().numpy().transpose(1,2,0)\n",
    "        sr_np = (sr_np * 255).clip(0, 255).astype(np.uint8)\n",
    "        sr_np = sr_np[:h*SCALE_FACTOR, :w*SCALE_FACTOR]\n",
    "        output_path = os.path.join(output_dir, filename)\n",
    "        cv2.imwrite(output_path, cv2.cvtColor(sr_np, cv2.COLOR_RGB2BGR))\n",
    "\n",
    "predict_and_save()\n",
    "\n",
    "# Generate submission CSV\n",
    "def create_submission(output_dir='Sub', csv_path='Submission.csv'):\n",
    "    encoded = []\n",
    "    for fname in tqdm(os.listdir(output_dir)):\n",
    "        img_path = os.path.join(output_dir, fname)\n",
    "        image = cv2.imread(img_path)\n",
    "        _, buffer = cv2.imencode('.png', image)\n",
    "        b64 = base64.b64encode(buffer).decode('utf-8')\n",
    "        encoded.append({'id': fname, 'Encoded_Image': b64})\n",
    "    pd.DataFrame(encoded).to_csv(csv_path, index=False)\n",
    "\n",
    "create_submission()\n"
   ]
  }
 ],
 "metadata": {
  "kernelspec": {
   "display_name": "Python 3 (ipykernel)",
   "language": "python",
   "name": "python3"
  },
  "language_info": {
   "codemirror_mode": {
    "name": "ipython",
    "version": 3
   },
   "file_extension": ".py",
   "mimetype": "text/x-python",
   "name": "python",
   "nbconvert_exporter": "python",
   "pygments_lexer": "ipython3",
   "version": "3.8.13"
  }
 },
 "nbformat": 4,
 "nbformat_minor": 5
}
